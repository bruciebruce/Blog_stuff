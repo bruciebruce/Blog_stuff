{
 "cells": [
  {
   "cell_type": "code",
   "execution_count": 25,
   "metadata": {},
   "outputs": [],
   "source": [
    "import numpy as np\n",
    "import matplotlib.pyplot as plt\n",
    "import tensorflow as tf\n",
    "from tensorflow.keras.models import Sequential\n",
    "from tensorflow.keras.layers import Dense, Dropout, Activation, Conv2D, MaxPool2D, Lambda\n",
    "%matplotlib inline"
   ]
  },
  {
   "cell_type": "code",
   "execution_count": 10,
   "metadata": {},
   "outputs": [],
   "source": [
    "board_shape = (20, 20)\n",
    "board_size = board_shape[0] * board_shape[1]\n",
    "probability_alive = 0.15\n",
    "train_size = 7000\n",
    "val_size   = 1000\n",
    "test_size  = 2000"
   ]
  },
  {
   "cell_type": "markdown",
   "metadata": {},
   "source": [
    "Some helper functions,\n",
    "some of them borrowed from = https://kylewbanks.com/blog/conways-game-of-life-convolutional-neural-network-keras\n",
    "Modified to use n step, We also use a very different model architecture"
   ]
  },
  {
   "cell_type": "code",
   "execution_count": 11,
   "metadata": {},
   "outputs": [],
   "source": [
    "def generate_frames(num_frames, board_shape=(100,100), prob_alive=0.15):\n",
    "    \"\"\"\n",
    "    Generates `num_frames` random game boards with a particular shape and a predefined \n",
    "    probability of each cell being 'alive'.\n",
    "    \"\"\"\n",
    "    \n",
    "    return np.array([\n",
    "        np.random.choice([False, True], size=board_shape, p=[1-prob_alive, prob_alive])\n",
    "        for _ in range(num_frames)\n",
    "    ]).astype(int)\n",
    "\n",
    "# Reshape input\n",
    "def reshape_input(X):\n",
    "    return X.reshape(X.shape[0], X.shape[1], X.shape[2], 1)\n",
    "\n",
    "# Dataset generator\n",
    "def generate_dataset(num_frames, board_shape, prob_alive, life_step=1):\n",
    "    X = generate_frames(num_frames, board_shape=board_shape, prob_alive=prob_alive)\n",
    "    X = reshape_input(X)\n",
    "    y = np.array([n_life_step(frame,life_step) for frame in X])\n",
    "    return X, y\n",
    "\n",
    "# Take one time-step\n",
    "def life_step(X):\n",
    "    \"\"\"\n",
    "    'Game of Life' logic, from: \n",
    "    https://jakevdp.github.io/blog/2013/08/07/conways-game-of-life/\n",
    "    \"\"\"\n",
    "    live_neighbors = sum(np.roll(np.roll(X, i, 0), j, 1)\n",
    "                     for i in (-1, 0, 1) for j in (-1, 0, 1)\n",
    "                     if (i != 0 or j != 0))\n",
    "    return (live_neighbors == 3) | (X & (live_neighbors == 2)).astype(int)\n",
    "\n",
    "# Plot out data\n",
    "def render_frames(frame1, frame2):\n",
    "    plt.subplot(1, 2, 1)\n",
    "    plt.imshow(frame1.flatten().reshape(board_shape), cmap='gray')\n",
    "\n",
    "    plt.subplot(1, 2, 2)\n",
    "    plt.imshow(frame2.flatten().reshape(board_shape), cmap='gray')\n",
    "    \n",
    "# Wrap-around padding for given input.\n",
    "# Connect left-right and top-bottom edge\n",
    "def pad_input(X):\n",
    "    return reshape_input(np.array([\n",
    "        np.pad(x.reshape(board_shape), (1,1), mode='wrap')\n",
    "        for x in X\n",
    "    ]))\n",
    "\n",
    "# Generate n-step life\n",
    "def n_life_step(img,life=1):\n",
    "    for i in range(life):\n",
    "        img=life_step(img)\n",
    "    return img\n",
    "\n",
    "# Function to check errors\n",
    "def view_test_errors(model, X_test, y_test):\n",
    "    y_test_pred = tf.round(model.predict_classes(X_test))\n",
    "    sum_y_test_pred = np.sum(y_test_pred, axis=0).flatten().reshape(board_shape)\n",
    "    sum_y_test = np.sum(y_test, axis=0).flatten().reshape(board_shape)\n",
    "\n",
    "    plt.imshow(sum_y_test_pred - sum_y_test, cmap='hot', interpolation='nearest')\n",
    "    plt.show()\n"
   ]
  },
  {
   "cell_type": "markdown",
   "metadata": {},
   "source": [
    "Lets try to generate some test frames"
   ]
  },
  {
   "cell_type": "code",
   "execution_count": 12,
   "metadata": {},
   "outputs": [
    {
     "name": "stdout",
     "output_type": "stream",
     "text": [
      "Sample frame vs. next step:\n"
     ]
    },
    {
     "data": {
      "image/png": "[encoded data removed]",
      "text/plain": [
       "<Figure size 432x288 with 2 Axes>"
      ]
     },
     "metadata": {
      "needs_background": "light"
     },
     "output_type": "display_data"
    }
   ],
   "source": [
    "frames = generate_frames(20, board_shape=board_shape, prob_alive=probability_alive)\n",
    "print(\"Sample frame vs. next step:\")\n",
    "render_frames(frames[1], life_step(frames[1]))"
   ]
  },
  {
   "cell_type": "markdown",
   "metadata": {},
   "source": [
    "Now we will build training and test set:"
   ]
  },
  {
   "cell_type": "code",
   "execution_count": 19,
   "metadata": {},
   "outputs": [
    {
     "name": "stdout",
     "output_type": "stream",
     "text": [
      "Training Set:\n",
      "(7000, 20, 20, 1)\n",
      "(7000, 20, 20, 1)\n",
      "Test Set:\n",
      "(2000, 20, 20, 1)\n",
      "(2000, 20, 20, 1)\n"
     ]
    }
   ],
   "source": [
    "print(\"Training Set:\")\n",
    "X_train, y_train = generate_dataset(train_size, board_shape, probability_alive,1)\n",
    "print(X_train.shape)\n",
    "print(y_train.shape)\n",
    "print(\"Test Set:\")\n",
    "X_test, y_test =  generate_dataset(test_size, board_shape, probability_alive,1)\n",
    "print(X_test.shape)\n",
    "print(y_test.shape)"
   ]
  },
  {
   "cell_type": "markdown",
   "metadata": {},
   "source": [
    "Lets add padding to our data sets"
   ]
  },
  {
   "cell_type": "code",
   "execution_count": 20,
   "metadata": {},
   "outputs": [
    {
     "name": "stdout",
     "output_type": "stream",
     "text": [
      "(7000, 22, 22, 1)\n",
      "(2000, 22, 22, 1)\n"
     ]
    }
   ],
   "source": [
    "X_train_padded = pad_input(X_train).astype(np.float32)\n",
    "X_test_padded = pad_input(X_test).astype(np.float32)\n",
    "y_train = y_train.astype(np.float32)\n",
    "y_test = y_test.astype(np.float32)\n",
    "\n",
    "print(X_train_padded.shape)\n",
    "print(X_test_padded.shape)"
   ]
  },
  {
   "cell_type": "markdown",
   "metadata": {},
   "source": [
    "New we build our model"
   ]
  },
  {
   "cell_type": "code",
   "execution_count": 21,
   "metadata": {},
   "outputs": [
    {
     "name": "stdout",
     "output_type": "stream",
     "text": [
      "Model: \"sequential_1\"\n",
      "_________________________________________________________________\n",
      "Layer (type)                 Output Shape              Param #   \n",
      "=================================================================\n",
      "conv2d_2 (Conv2D)            (None, 20, 20, 100)       1000      \n",
      "_________________________________________________________________\n",
      "conv2d_3 (Conv2D)            (None, 20, 20, 1)         101       \n",
      "=================================================================\n",
      "Total params: 1,101\n",
      "Trainable params: 1,101\n",
      "Non-trainable params: 0\n",
      "_________________________________________________________________\n"
     ]
    }
   ],
   "source": [
    "modelme = Sequential()\n",
    "modelme.add(Conv2D(100,3,padding='valid',activation='relu',strides=1,input_shape=(board_shape[0] + 2, board_shape[1] + 2, 1)))\n",
    "modelme.add(Conv2D(1,1,activation='sigmoid'))\n",
    "\n",
    "modelme.compile(loss='binary_crossentropy', optimizer='adam', metrics=['accuracy'])\n",
    "modelme.summary()"
   ]
  },
  {
   "cell_type": "code",
   "execution_count": 30,
   "metadata": {},
   "outputs": [
    {
     "name": "stdout",
     "output_type": "stream",
     "text": [
      "Train on 7000 samples\n",
      "Epoch 1/5\n",
      "7000/7000 [==============================] - 14s 2ms/sample - loss: 0.0030 - accuracy: 0.9998s -\n",
      "Epoch 2/5\n",
      "7000/7000 [==============================] - 14s 2ms/sample - loss: 0.0027 - accuracy: 0.9999\n",
      "Epoch 3/5\n",
      "7000/7000 [==============================] - 12s 2ms/sample - loss: 0.0024 - accuracy: 0.9999\n",
      "Epoch 4/5\n",
      "7000/7000 [==============================] - 11s 2ms/sample - loss: 0.0022 - accuracy: 1.0000\n",
      "Epoch 5/5\n",
      "7000/7000 [==============================] - 13s 2ms/sample - loss: 0.0020 - accuracy: 1.0000\n"
     ]
    },
    {
     "data": {
      "text/plain": [
       "<tensorflow.python.keras.callbacks.History at 0x1bfefad3788>"
      ]
     },
     "execution_count": 30,
     "metadata": {},
     "output_type": "execute_result"
    }
   ],
   "source": [
    "modelme.fit(X_train_padded, y_train,batch_size=50,epochs=5)"
   ]
  },
  {
   "cell_type": "markdown",
   "metadata": {},
   "source": [
    "We need to train the model till the accuracy is 100 (we want it to overfit completely.)"
   ]
  },
  {
   "cell_type": "code",
   "execution_count": 31,
   "metadata": {},
   "outputs": [
    {
     "data": {
      "image/png": "[encoded data removed]",
      "text/plain": [
       "<Figure size 432x288 with 1 Axes>"
      ]
     },
     "metadata": {
      "needs_background": "light"
     },
     "output_type": "display_data"
    }
   ],
   "source": [
    "view_test_errors(modelme, X_test_padded, y_test)"
   ]
  },
  {
   "cell_type": "markdown",
   "metadata": {},
   "source": [
    "Complete black means the model worked perfectly"
   ]
  },
  {
   "cell_type": "code",
   "execution_count": null,
   "metadata": {},
   "outputs": [],
   "source": []
  }
 ],
 "metadata": {
  "kernelspec": {
   "display_name": "Python 3",
   "language": "python",
   "name": "python3"
  },
  "language_info": {
   "codemirror_mode": {
    "name": "ipython",
    "version": 3
   },
   "file_extension": ".py",
   "mimetype": "text/x-python",
   "name": "python",
   "nbconvert_exporter": "python",
   "pygments_lexer": "ipython3",
   "version": "3.7.5"
  }
 },
 "nbformat": 4,
 "nbformat_minor": 2
}
