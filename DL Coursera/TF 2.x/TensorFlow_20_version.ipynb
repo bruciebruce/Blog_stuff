{
 "cells": [
  {
   "cell_type": "markdown",
   "metadata": {
    "colab_type": "text",
    "id": "zVtw6n7bT110"
   },
   "source": [
    "# TensorFlow 2.0 Tutorial\n",
    "\n",
    "Welcome to this week's programming assignment. Until now, you've always used numpy to build neural networks. Now we will step you through a deep learning framework that will allow you to build neural networks more easily. Machine learning frameworks like TensorFlow, PaddlePaddle, Torch, Caffe, Keras, and many others can speed up your machine learning development significantly. All of these frameworks also have a lot of documentation, which you should feel free to read. In this assignment, you will learn to do the following in TensorFlow: \n",
    "\n",
    "- Initialize variables\n",
    "- Start your own session\n",
    "- Train algorithms \n",
    "- Implement a Neural Network\n",
    "\n",
    "Programing frameworks can not only shorten your coding time, but sometimes also perform optimizations that speed up your code. "
   ]
  },
  {
   "cell_type": "markdown",
   "metadata": {},
   "source": [
    "## 1 - Exploring the Tensorflow Library\n",
    "\n",
    "To start, you will import the library:"
   ]
  },
  {
   "cell_type": "code",
   "execution_count": 1,
   "metadata": {
    "colab": {},
    "colab_type": "code",
    "id": "rhZ0RUw8T111"
   },
   "outputs": [],
   "source": [
    "import math\n",
    "import numpy as np\n",
    "import h5py\n",
    "import matplotlib.pyplot as plt\n",
    "import tensorflow as tf\n",
    "from tensorflow.python.framework import ops\n",
    "from tf_utils import load_dataset, random_mini_batches, convert_to_one_hot, predict\n",
    "\n",
    "%matplotlib inline\n",
    "np.random.seed(1)"
   ]
  },
  {
   "cell_type": "markdown",
   "metadata": {
    "colab_type": "text",
    "id": "A1vVKBCQT114"
   },
   "source": [
    "Now that you have imported the library, we will walk you through its different applications. You will start with an example, where we compute for you the loss of one training example. \n",
    "$$loss = \\mathcal{L}(\\hat{y}, y) = (\\hat y^{(i)} - y^{(i)})^2 \\tag{1}$$"
   ]
  },
  {
   "cell_type": "code",
   "execution_count": 2,
   "metadata": {
    "colab": {},
    "colab_type": "code",
    "id": "JKAjoAbjT115"
   },
   "outputs": [
    {
     "name": "stdout",
     "output_type": "stream",
     "text": [
      "9\n"
     ]
    }
   ],
   "source": [
    "y_hat = tf.constant(36)            # Define y_hat constant. Set to 36.\n",
    "y = tf.constant(39)                    # Define y. Set to 39\n",
    "\n",
    "loss = tf.Variable((y - y_hat)**2, name='loss')  # Create a variable for the loss\n",
    "\n",
    "print(loss.numpy())                    # Prints the loss"
   ]
  },
  {
   "cell_type": "code",
   "execution_count": 3,
   "metadata": {
    "colab": {},
    "colab_type": "code",
    "id": "Ni74wj7IT117"
   },
   "outputs": [
    {
     "name": "stdout",
     "output_type": "stream",
     "text": [
      "tf.Tensor(20, shape=(), dtype=int32)\n"
     ]
    }
   ],
   "source": [
    "a = tf.constant(2)\n",
    "b = tf.constant(10)\n",
    "c = tf.multiply(a,b)\n",
    "print(c)"
   ]
  },
  {
   "cell_type": "markdown",
   "metadata": {
    "colab_type": "text",
    "id": "X15wlMDUT12D"
   },
   "source": [
    "### 1.1 - Linear function\n",
    "\n",
    "Lets start this programming exercise by computing the following equation: $Y = WX + b$, where $W$ and $X$ are random matrices and b is a random vector. \n",
    "\n",
    "**Exercise**: Compute $WX + b$ where $W, X$, and $b$ are drawn from a random normal distribution. W is of shape (4, 3), X is (3,1) and b is (4,1). As an example, here is how you would define a constant X that has shape (3,1):\n",
    "```python\n",
    "X = tf.constant(np.random.randn(3,1), name = \"X\")\n",
    "\n",
    "```\n",
    "You might find the following functions helpful: \n",
    "- tf.matmul(..., ...) to do a matrix multiplication\n",
    "- tf.add(..., ...) to do an addition\n",
    "- np.random.randn(...) to initialize randomly\n"
   ]
  },
  {
   "cell_type": "code",
   "execution_count": 4,
   "metadata": {
    "colab": {},
    "colab_type": "code",
    "id": "ww5sBoFbT12D"
   },
   "outputs": [],
   "source": [
    "# GRADED FUNCTION: linear_function\n",
    "\n",
    "def linear_function():\n",
    "    \"\"\"\n",
    "    Implements a linear function: \n",
    "            Initializes X to be a random tensor of shape (3,1)\n",
    "            Initializes W to be a random tensor of shape (4,3)\n",
    "            Initializes b to be a random tensor of shape (4,1)\n",
    "    Returns: \n",
    "    result -- runs the session for Y = WX + b \n",
    "    \"\"\"\n",
    "    \n",
    "    np.random.seed(1)\n",
    "    \n",
    "    \"\"\"\n",
    "    Note, to ensure that the \"random\" numbers generated match the expected results,\n",
    "    please create the variables in the order given in the starting code below.\n",
    "    (Do not re-arrange the order).\n",
    "    \"\"\"\n",
    "    ### START CODE HERE ### (4 lines of code)\n",
    "    X = tf.constant(np.random.randn(3, 1))\n",
    "    W = tf.constant(np.random.randn(4, 3))\n",
    "    b = tf.constant(np.random.randn(4, 1))\n",
    "    Y = tf.add(tf.matmul(W, X), b)\n",
    "    ### END CODE HERE ### \n",
    "    \n",
    "    \n",
    "    ### START CODE HERE ###\n",
    "    result = Y.numpy()\n",
    "    ### END CODE HERE ### \n",
    "    \n",
    "    return result"
   ]
  },
  {
   "cell_type": "code",
   "execution_count": 5,
   "metadata": {
    "colab": {},
    "colab_type": "code",
    "id": "P3gOryVQT12G"
   },
   "outputs": [
    {
     "name": "stdout",
     "output_type": "stream",
     "text": [
      "result = \n",
      "[[-2.15657382]\n",
      " [ 2.95891446]\n",
      " [-1.08926781]\n",
      " [-0.84538042]]\n"
     ]
    }
   ],
   "source": [
    "print( \"result = \\n\" + str(linear_function()))"
   ]
  },
  {
   "cell_type": "markdown",
   "metadata": {
    "colab_type": "text",
    "id": "R5netQ9IT12J"
   },
   "source": [
    "*** Expected Output ***: \n",
    "\n",
    "```\n",
    "result = \n",
    "[[-2.15657382]\n",
    " [ 2.95891446]\n",
    " [-1.08926781]\n",
    " [-0.84538042]]\n",
    "```"
   ]
  },
  {
   "cell_type": "markdown",
   "metadata": {
    "colab_type": "text",
    "id": "DUBum-E4T12K"
   },
   "source": [
    "### 1.2 - Computing the sigmoid \n",
    "Great! You just implemented a linear function. Tensorflow offers a variety of commonly used neural network functions like `tf.sigmoid` and `tf.softmax`. For this exercise lets compute the sigmoid function of an input. \n",
    "\n",
    "You will do this exercise using a placeholder variable `x`. When running the session, you should use the feed dictionary to pass in the input `z`. In this exercise, you will have to (i) create a placeholder `x`, (ii) define the operations needed to compute the sigmoid using `tf.sigmoid`, and then (iii) run the session. \n",
    "\n",
    "** Exercise **: Implement the sigmoid function below. You should use the following: \n",
    "\n",
    "\n"
   ]
  },
  {
   "cell_type": "code",
   "execution_count": 6,
   "metadata": {
    "colab": {},
    "colab_type": "code",
    "id": "APv9bW9rT12K"
   },
   "outputs": [],
   "source": [
    "# GRADED FUNCTION: sigmoid\n",
    "\n",
    "def sigmoid(z):\n",
    "    \"\"\"\n",
    "    Computes the sigmoid of z\n",
    "    \n",
    "    Arguments:\n",
    "    z -- input value, scalar or vector\n",
    "    \n",
    "    Returns: \n",
    "    results -- the sigmoid of z\n",
    "    \"\"\"\n",
    "    \n",
    "    ### START CODE HERE ### ( approx. 4 lines of code)\n",
    "    \n",
    "    # compute sigmoid(x)\n",
    "    x=np.asarray(z,dtype=np.float32)\n",
    "    sigmoid = tf.math.sigmoid(x)\n",
    "    result = sigmoid.numpy()\n",
    "\n",
    "    ### END CODE HERE ###\n",
    "    \n",
    "    return result"
   ]
  },
  {
   "cell_type": "code",
   "execution_count": 7,
   "metadata": {
    "colab": {},
    "colab_type": "code",
    "id": "nLHdJxKVT12M"
   },
   "outputs": [
    {
     "name": "stdout",
     "output_type": "stream",
     "text": [
      "sigmoid(0) = 0.5\n",
      "sigmoid(12) = 0.9999938\n"
     ]
    }
   ],
   "source": [
    "print (\"sigmoid(0) = \" + str(sigmoid(0)))\n",
    "print (\"sigmoid(12) = \" + str(sigmoid(12)))"
   ]
  },
  {
   "cell_type": "markdown",
   "metadata": {
    "colab_type": "text",
    "id": "4cl8Wgg9T12O"
   },
   "source": [
    "*** Expected Output ***: \n",
    "\n",
    "<table> \n",
    "<tr> \n",
    "<td>\n",
    "**sigmoid(0)**\n",
    "</td>\n",
    "<td>\n",
    "0.5\n",
    "</td>\n",
    "</tr>\n",
    "<tr> \n",
    "<td>\n",
    "**sigmoid(12)**\n",
    "</td>\n",
    "<td>\n",
    "0.999994\n",
    "</td>\n",
    "</tr> \n",
    "\n",
    "</table> "
   ]
  },
  {
   "cell_type": "markdown",
   "metadata": {
    "colab_type": "text",
    "id": "ytSt0fgTT12P"
   },
   "source": [
    "### 1.3 -  Computing the Cost\n",
    "\n",
    "You can also use a built-in function to compute the cost of your neural network. So instead of needing to write code to compute this as a function of $a^{[2](i)}$ and $y^{(i)}$ for i=1...m: \n",
    "$$ J = - \\frac{1}{m}  \\sum_{i = 1}^m  \\large ( \\small y^{(i)} \\log a^{ [2] (i)} + (1-y^{(i)})\\log (1-a^{ [2] (i)} )\\large )\\small\\tag{2}$$\n",
    "\n",
    "you can do it in one line of code in tensorflow!\n",
    "\n",
    "**Exercise**: Implement the cross entropy loss. The function you will use is: \n",
    "\n",
    "\n",
    "- `tf.nn.sigmoid_cross_entropy_with_logits(logits = ...,  labels = ...)`\n",
    "\n",
    "Your code should input `z`, compute the sigmoid (to get `a`) and then compute the cross entropy cost $J$. All this can be done using one call to `tf.nn.sigmoid_cross_entropy_with_logits`, which computes\n",
    "\n",
    "$$- \\frac{1}{m}  \\sum_{i = 1}^m  \\large ( \\small y^{(i)} \\log \\sigma(z^{[2](i)}) + (1-y^{(i)})\\log (1-\\sigma(z^{[2](i)})\\large )\\small\\tag{2}$$\n",
    "\n"
   ]
  },
  {
   "cell_type": "code",
   "execution_count": 8,
   "metadata": {
    "colab": {},
    "colab_type": "code",
    "id": "oIRdDYOLT12P"
   },
   "outputs": [],
   "source": [
    "# GRADED FUNCTION: cost\n",
    "\n",
    "def cost(logits, labels):\n",
    "    \"\"\"\n",
    "    Computes the cost using the sigmoid cross entropy\n",
    "    \n",
    "    Arguments:\n",
    "    logits -- vector containing z, output of the last linear unit (before the final sigmoid activation)\n",
    "    labels -- vector of labels y (1 or 0) \n",
    "    \n",
    "    Note: What we've been calling \"z\" and \"y\" in this class are respectively called \"logits\" and \"labels\" \n",
    "    in the TensorFlow documentation. So logits will feed into z, and labels into y. \n",
    "    \n",
    "    Returns:\n",
    "    cost -- runs the session of the cost (formula (2))\n",
    "    \"\"\"\n",
    "    \n",
    "    ### START CODE HERE ### \n",
    "    \n",
    "    # Create the placeholders for \"logits\" (z) and \"labels\" (y) (approx. 2 lines)\n",
    "    z = logits.astype(np.float32)\n",
    "    y = labels.astype(np.float32)\n",
    "    \n",
    "    cost = tf.nn.sigmoid_cross_entropy_with_logits(logits = z,  labels = y)\n",
    "    \n",
    "    \n",
    "    ### END CODE HERE ###\n",
    "    \n",
    "    return cost.numpy()"
   ]
  },
  {
   "cell_type": "code",
   "execution_count": 9,
   "metadata": {
    "colab": {},
    "colab_type": "code",
    "id": "0nPB-lOYT12R"
   },
   "outputs": [
    {
     "name": "stdout",
     "output_type": "stream",
     "text": [
      "cost = [0.79813886 0.91301525 0.40318602 0.3411539 ]\n"
     ]
    }
   ],
   "source": [
    "logits = np.array([0.2,0.4,0.7,0.9])\n",
    "\n",
    "cost = cost(logits, np.array([0,0,1,1]))\n",
    "print (\"cost = \" + str(cost))"
   ]
  },
  {
   "cell_type": "markdown",
   "metadata": {
    "colab_type": "text",
    "id": "X8sMySzyT12T"
   },
   "source": [
    "** Expected Output** : \n",
    "\n",
    "```\n",
    "cost = [ 0.79813886  0.91301525  0.40318605  0.34115386]\n",
    "```"
   ]
  },
  {
   "cell_type": "markdown",
   "metadata": {
    "colab_type": "text",
    "id": "_sK1Rqm6T12U"
   },
   "source": [
    "### 1.4 - Using One Hot encodings\n",
    "\n",
    "Many times in deep learning you will have a y vector with numbers ranging from 0 to C-1, where C is the number of classes. If C is for example 4, then you might have the following y vector which you will need to convert as follows:\n",
    "\n",
    "\n",
    "<img src=\"images/onehot.png\" style=\"width:600px;height:150px;\">\n",
    "\n",
    "This is called a \"one hot\" encoding, because in the converted representation exactly one element of each column is \"hot\" (meaning set to 1). To do this conversion in numpy, you might have to write a few lines of code. In tensorflow, you can use one line of code: \n",
    "\n",
    "- tf.one_hot(labels, depth, axis) \n",
    "\n",
    "**Exercise:** Implement the function below to take one vector of labels and the total number of classes $C$, and return the one hot encoding. Use `tf.one_hot()` to do this. "
   ]
  },
  {
   "cell_type": "code",
   "execution_count": 10,
   "metadata": {
    "colab": {},
    "colab_type": "code",
    "id": "dlamXLu_T12U"
   },
   "outputs": [],
   "source": [
    "# GRADED FUNCTION: one_hot_matrix\n",
    "\n",
    "def one_hot_matrix(labels, C):\n",
    "    \"\"\"\n",
    "    Creates a matrix where the i-th row corresponds to the ith class number and the jth column\n",
    "                     corresponds to the jth training example. So if example j had a label i. Then entry (i,j) \n",
    "                     will be 1. \n",
    "                     \n",
    "    Arguments:\n",
    "    labels -- vector containing the labels \n",
    "    C -- number of classes, the depth of the one hot dimension\n",
    "    \n",
    "    Returns: \n",
    "    one_hot -- one hot matrix\n",
    "    \"\"\"\n",
    "    \n",
    "    ### START CODE HERE ###\n",
    "    \n",
    "    # Create a tf.constant equal to C (depth), name it 'C'. (approx. 1 line)\n",
    "    C = tf.constant(C)\n",
    "    \n",
    "    # Use tf.one_hot, be careful with the axis (approx. 1 line)\n",
    "    one_hot_matrix = tf.one_hot(labels, C, axis = 0)\n",
    "    \n",
    "    one_hot = one_hot_matrix.numpy()\n",
    "    \n",
    "    \n",
    "    return one_hot"
   ]
  },
  {
   "cell_type": "code",
   "execution_count": 11,
   "metadata": {
    "colab": {},
    "colab_type": "code",
    "id": "8Bi0je2yT12W"
   },
   "outputs": [
    {
     "name": "stdout",
     "output_type": "stream",
     "text": [
      "one_hot = \n",
      "[[0. 0. 0. 1. 0. 0.]\n",
      " [1. 0. 0. 0. 0. 1.]\n",
      " [0. 1. 0. 0. 1. 0.]\n",
      " [0. 0. 1. 0. 0. 0.]]\n"
     ]
    }
   ],
   "source": [
    "labels = np.array([1,2,3,0,2,1])\n",
    "one_hot = one_hot_matrix(labels, C = 4)\n",
    "print (\"one_hot = \\n\" + str(one_hot))"
   ]
  },
  {
   "cell_type": "markdown",
   "metadata": {
    "colab_type": "text",
    "id": "HlT0UczrT12Y"
   },
   "source": [
    "**Expected Output**: \n",
    "\n",
    "```\n",
    "one_hot = \n",
    "[[ 0.  0.  0.  1.  0.  0.]\n",
    " [ 1.  0.  0.  0.  0.  1.]\n",
    " [ 0.  1.  0.  0.  1.  0.]\n",
    " [ 0.  0.  1.  0.  0.  0.]]\n",
    "```"
   ]
  },
  {
   "cell_type": "markdown",
   "metadata": {
    "colab_type": "text",
    "id": "qsu1xyqFT12Z"
   },
   "source": [
    "### 1.5 - Initialize with zeros and ones\n",
    "\n",
    "Now you will learn how to initialize a vector of zeros and ones. The function you will be calling is `tf.ones()`. To initialize with zeros you could use tf.zeros() instead. These functions take in a shape and return an array of dimension shape full of zeros and ones respectively. \n",
    "\n",
    "**Exercise:** Implement the function below to take in a shape and to return an array (of the shape's dimension of ones). \n",
    "\n",
    " - tf.ones(shape)\n"
   ]
  },
  {
   "cell_type": "code",
   "execution_count": 12,
   "metadata": {
    "colab": {},
    "colab_type": "code",
    "id": "eOVWrcR2T12Z"
   },
   "outputs": [],
   "source": [
    "# GRADED FUNCTION: ones\n",
    "\n",
    "def ones(shape):\n",
    "    \"\"\"\n",
    "    Creates an array of ones of dimension shape\n",
    "    \n",
    "    Arguments:\n",
    "    shape -- shape of the array you want to create\n",
    "        \n",
    "    Returns: \n",
    "    ones -- array containing only ones\n",
    "    \"\"\"\n",
    "    \n",
    "    ### START CODE HERE ###\n",
    "    \n",
    "    # Create \"ones\" tensor using tf.ones(...). (approx. 1 line)\n",
    "    ones = tf.ones(shape)\n",
    "    \n",
    "    ### END CODE HERE ###\n",
    "    return ones.numpy()"
   ]
  },
  {
   "cell_type": "code",
   "execution_count": 13,
   "metadata": {
    "colab": {},
    "colab_type": "code",
    "id": "WwHEVDv6T12b"
   },
   "outputs": [
    {
     "name": "stdout",
     "output_type": "stream",
     "text": [
      "ones = [1. 1. 1.]\n"
     ]
    }
   ],
   "source": [
    "print (\"ones = \" + str(ones([3])))"
   ]
  },
  {
   "cell_type": "markdown",
   "metadata": {
    "colab_type": "text",
    "id": "hGgM2hSFT12g"
   },
   "source": [
    "**Expected Output:**\n",
    "\n",
    "<table> \n",
    "    <tr> \n",
    "        <td>\n",
    "            **ones**\n",
    "        </td>\n",
    "        <td>\n",
    "        [ 1.  1.  1.]\n",
    "        </td>\n",
    "    </tr>\n",
    "\n",
    "</table>"
   ]
  },
  {
   "cell_type": "markdown",
   "metadata": {
    "colab_type": "text",
    "id": "LW8S6sVzT12h"
   },
   "source": [
    "# 2 - Building your first neural network in tensorflow\n",
    "\n",
    "In this part of the assignment you will build a neural network using tensorflow. Remember that there are two parts to implement a tensorflow model:\n",
    "\n",
    "- Create the computation graph\n",
    "- Run the graph\n",
    "\n",
    "Let's delve into the problem you'd like to solve!\n",
    "\n",
    "### 2.0 - Problem statement: SIGNS Dataset\n",
    "\n",
    "One afternoon, with some friends we decided to teach our computers to decipher sign language. We spent a few hours taking pictures in front of a white wall and came up with the following dataset. It's now your job to build an algorithm that would facilitate communications from a speech-impaired person to someone who doesn't understand sign language.\n",
    "\n",
    "- **Training set**: 1080 pictures (64 by 64 pixels) of signs representing numbers from 0 to 5 (180 pictures per number).\n",
    "- **Test set**: 120 pictures (64 by 64 pixels) of signs representing numbers from 0 to 5 (20 pictures per number).\n",
    "\n",
    "Note that this is a subset of the SIGNS dataset. The complete dataset contains many more signs.\n",
    "\n",
    "Here are examples for each number, and how an explanation of how we represent the labels. These are the original pictures, before we lowered the image resolutoion to 64 by 64 pixels.\n",
    "<img src=\"images/hands.png\" style=\"width:800px;height:350px;\"><caption><center> <u><font color='purple'> **Figure 1**</u><font color='purple'>: SIGNS dataset <br> <font color='black'> </center>\n",
    "\n",
    "\n",
    "Run the following code to load the dataset."
   ]
  },
  {
   "cell_type": "code",
   "execution_count": 14,
   "metadata": {
    "colab": {},
    "colab_type": "code",
    "id": "wCgjv84yT12i"
   },
   "outputs": [],
   "source": [
    "# Loading the dataset\n",
    "X_train_orig, Y_train_orig, X_test_orig, Y_test_orig, classes = load_dataset()"
   ]
  },
  {
   "cell_type": "code",
   "execution_count": 15,
   "metadata": {},
   "outputs": [
    {
     "data": {
      "text/plain": [
       "(1080, 64, 64, 3)"
      ]
     },
     "execution_count": 15,
     "metadata": {},
     "output_type": "execute_result"
    }
   ],
   "source": [
    "X_train_orig.shape"
   ]
  },
  {
   "cell_type": "markdown",
   "metadata": {
    "colab_type": "text",
    "id": "JYimgnMbT12k"
   },
   "source": [
    "Change the index below and run the cell to visualize some examples in the dataset."
   ]
  },
  {
   "cell_type": "code",
   "execution_count": 16,
   "metadata": {
    "colab": {},
    "colab_type": "code",
    "id": "wG0QwVtJT12k"
   },
   "outputs": [
    {
     "name": "stdout",
     "output_type": "stream",
     "text": [
      "y = 4\n"
     ]
    },
    {
     "data": {
      "text/plain": [
       "(64, 64, 3)"
      ]
     },
     "execution_count": 16,
     "metadata": {},
     "output_type": "execute_result"
    },
    {
     "data": {
      "image/png": "[encoded data removed]",
      "text/plain": [
       "<Figure size 432x288 with 1 Axes>"
      ]
     },
     "metadata": {
      "needs_background": "light"
     },
     "output_type": "display_data"
    }
   ],
   "source": [
    "# Example of a picture\n",
    "index = 5\n",
    "plt.imshow(X_train_orig[index])\n",
    "print (\"y = \" + str(np.squeeze(Y_train_orig[:, index])))\n",
    "X_train_orig[index].shape"
   ]
  },
  {
   "cell_type": "markdown",
   "metadata": {
    "colab_type": "text",
    "id": "2WP4-S2CT12m"
   },
   "source": [
    "As usual you flatten the image dataset, then normalize it by dividing by 255. On top of that, you will convert each label to a one-hot vector as shown in Figure 1. Run the cell below to do so."
   ]
  },
  {
   "cell_type": "code",
   "execution_count": 17,
   "metadata": {
    "colab": {},
    "colab_type": "code",
    "id": "tn3gF5xLT12m"
   },
   "outputs": [
    {
     "name": "stdout",
     "output_type": "stream",
     "text": [
      "number of training examples = 1080\n",
      "number of test examples = 120\n",
      "X_train shape: (12288, 1080)\n",
      "Y_train shape: (6, 1080)\n",
      "X_test shape: (12288, 120)\n",
      "Y_test shape: (6, 120)\n"
     ]
    }
   ],
   "source": [
    "# Flatten the training and test images\n",
    "X_train_flatten = X_train_orig.reshape(X_train_orig.shape[0], -1).T\n",
    "X_test_flatten = X_test_orig.reshape(X_test_orig.shape[0], -1).T\n",
    "# Normalize image vectors\n",
    "X_train = X_train_flatten/255.\n",
    "X_test = X_test_flatten/255.\n",
    "# Convert training and test labels to one hot matrices\n",
    "Y_train = convert_to_one_hot(Y_train_orig, 6)\n",
    "Y_test = convert_to_one_hot(Y_test_orig, 6)\n",
    "\n",
    "print (\"number of training examples = \" + str(X_train.shape[1]))\n",
    "print (\"number of test examples = \" + str(X_test.shape[1]))\n",
    "print (\"X_train shape: \" + str(X_train.shape))\n",
    "print (\"Y_train shape: \" + str(Y_train.shape))\n",
    "print (\"X_test shape: \" + str(X_test.shape))\n",
    "print (\"Y_test shape: \" + str(Y_test.shape))"
   ]
  },
  {
   "cell_type": "code",
   "execution_count": 18,
   "metadata": {},
   "outputs": [
    {
     "data": {
      "text/plain": [
       "(12288,)"
      ]
     },
     "execution_count": 18,
     "metadata": {},
     "output_type": "execute_result"
    }
   ],
   "source": [
    "X_train[:,0].shape"
   ]
  },
  {
   "cell_type": "markdown",
   "metadata": {
    "colab_type": "text",
    "id": "iN_KPZ0FT12o"
   },
   "source": [
    "**Note** that 12288 comes from $64 \\times 64 \\times 3$. Each image is square, 64 by 64 pixels, and 3 is for the RGB colors. Please make sure all these shapes make sense to you before continuing."
   ]
  },
  {
   "cell_type": "markdown",
   "metadata": {
    "colab_type": "text",
    "id": "_GQMSJTtT12p"
   },
   "source": [
    "**Your goal** is to build an algorithm capable of recognizing a sign with high accuracy. To do so, you are going to build a tensorflow model that is almost the same as one you have previously built in numpy for cat recognition (but now using a softmax output). It is a great occasion to compare your numpy implementation to the tensorflow one. \n",
    "\n",
    "**The model** is *LINEAR -> RELU -> LINEAR -> RELU -> LINEAR -> SOFTMAX*. The SIGMOID output layer has been converted to a SOFTMAX. A SOFTMAX layer generalizes SIGMOID to when there are more than two classes. "
   ]
  },
  {
   "cell_type": "markdown",
   "metadata": {
    "colab_type": "text",
    "id": "eyYz9y1XT12u"
   },
   "source": [
    "### 2.1 - Initializing the parameters\n",
    "\n",
    "Your first task is to initialize the parameters in tensorflow.\n",
    "\n",
    "**Exercise:** Implement the function below to initialize the parameters in tensorflow. You are going use Xavier Initialization for weights and Zero Initialization for biases. \n"
   ]
  },
  {
   "cell_type": "code",
   "execution_count": 19,
   "metadata": {
    "colab": {},
    "colab_type": "code",
    "id": "gPi-SeuWT12u"
   },
   "outputs": [],
   "source": [
    "# GRADED FUNCTION: initialize_parameters\n",
    "\n",
    "def initialize_parameters():\n",
    "    \"\"\"\n",
    "    Initializes parameters to build a neural network with tensorflow. The shapes are:\n",
    "                        W1 : [25, 12288]\n",
    "                        b1 : [25, 1]\n",
    "                        W2 : [12, 25]\n",
    "                        b2 : [12, 1]\n",
    "                        W3 : [6, 12]\n",
    "                        b3 : [6, 1]\n",
    "    \n",
    "    Returns:\n",
    "    parameters -- a dictionary of tensors containing W1, b1, W2, b2, W3, b3\n",
    "    \"\"\"\n",
    "    \n",
    "#     tf.set_random_seed(1)                   # so that your \"random\" numbers match ours\n",
    "        \n",
    "    ### START CODE HERE ### (approx. 6 lines of code)\n",
    "    initializer = tf.initializers.GlorotUniform(seed=1)\n",
    "    W1 = tf.Variable(initializer(shape=(25,12288)),name='W1')\n",
    "    b1 = tf.Variable(tf.zeros([25, 1]),name='b1')\n",
    "    W2 = tf.Variable(initializer(shape=(12,25)),name='W2')\n",
    "    b2 = tf.Variable(tf.zeros([12, 1]),name='b2')\n",
    "    W3 = tf.Variable(initializer(shape=(6,12)),name='W3')\n",
    "    b3 = tf.Variable(tf.zeros([6, 1]),name='b3')\n",
    "    ### END CODE HERE ###\n",
    "\n",
    "    parameters = {\"W1\": W1,\n",
    "                  \"b1\": b1,\n",
    "                  \"W2\": W2,\n",
    "                  \"b2\": b2,\n",
    "                  \"W3\": W3,\n",
    "                  \"b3\": b3}\n",
    "    \n",
    "    return parameters"
   ]
  },
  {
   "cell_type": "code",
   "execution_count": 20,
   "metadata": {
    "colab": {},
    "colab_type": "code",
    "id": "CcuKNYinT12x"
   },
   "outputs": [
    {
     "name": "stdout",
     "output_type": "stream",
     "text": [
      "W1 = <tf.Variable 'W1:0' shape=(25, 12288) dtype=float32, numpy=\n",
      "array([[ 1.6709983e-02, -1.7668437e-03,  4.4277869e-03, ...,\n",
      "        -2.0409860e-02,  1.2577824e-02,  2.0119250e-03],\n",
      "       [-1.7880250e-02, -1.3661813e-03,  1.7239500e-02, ...,\n",
      "         1.9963894e-02, -2.1666976e-02,  1.2779485e-02],\n",
      "       [-1.6950723e-03,  8.4809698e-03, -3.0105226e-03, ...,\n",
      "         1.6032327e-03, -1.3424931e-02,  1.2222666e-02],\n",
      "       ...,\n",
      "       [-3.8248785e-03, -1.9217579e-02, -1.5035600e-02, ...,\n",
      "         1.9060567e-02,  2.0003520e-02,  1.5377998e-05],\n",
      "       [ 3.9651226e-03, -1.9923870e-02, -1.6923893e-02, ...,\n",
      "         3.9070603e-03,  5.1008463e-03, -1.5151719e-02],\n",
      "       [ 6.1693974e-04,  1.4706045e-02,  7.0033912e-03, ...,\n",
      "        -1.4057034e-02, -8.5559571e-03,  4.0868819e-03]], dtype=float32)>\n",
      "b1 = <tf.Variable 'b1:0' shape=(25, 1) dtype=float32, numpy=\n",
      "array([[0.],\n",
      "       [0.],\n",
      "       [0.],\n",
      "       [0.],\n",
      "       [0.],\n",
      "       [0.],\n",
      "       [0.],\n",
      "       [0.],\n",
      "       [0.],\n",
      "       [0.],\n",
      "       [0.],\n",
      "       [0.],\n",
      "       [0.],\n",
      "       [0.],\n",
      "       [0.],\n",
      "       [0.],\n",
      "       [0.],\n",
      "       [0.],\n",
      "       [0.],\n",
      "       [0.],\n",
      "       [0.],\n",
      "       [0.],\n",
      "       [0.],\n",
      "       [0.],\n",
      "       [0.]], dtype=float32)>\n",
      "W2 = <tf.Variable 'W2:0' shape=(12, 25) dtype=float32, numpy=\n",
      "array([[ 0.30482954, -0.03223139,  0.08077329, -0.08650047, -0.19877501,\n",
      "        -0.04486069, -0.12651557,  0.22266728, -0.36635032,  0.25561798,\n",
      "        -0.4023356 , -0.01642802, -0.00252679, -0.22082362,  0.33855814,\n",
      "        -0.09105277, -0.31232274, -0.1388166 , -0.37252587, -0.10941193,\n",
      "        -0.06592023, -0.12614122,  0.10674238, -0.03959331, -0.01977703],\n",
      "       [ 0.1391629 ,  0.009242  , -0.11180678,  0.00931388,  0.09171793,\n",
      "        -0.00644377,  0.17453086,  0.2335468 , -0.32267305,  0.11329818,\n",
      "         0.27279586, -0.2866029 , -0.38289183,  0.20805585, -0.10315123,\n",
      "         0.34365487,  0.20335072,  0.2201218 , -0.06808773, -0.1775992 ,\n",
      "         0.38620168,  0.34256786,  0.20511395,  0.07350624,  0.37636608],\n",
      "       [ 0.14789343,  0.35183388, -0.170235  ,  0.21421784,  0.12320745,\n",
      "        -0.34180212, -0.08534107, -0.02601543,  0.3566233 , -0.27985907,\n",
      "         0.05547601, -0.15629236,  0.39853853,  0.14308268,  0.12539858,\n",
      "        -0.17201328,  0.02578223,  0.3423283 ,  0.07654676,  0.2503171 ,\n",
      "         0.30242229,  0.22715485, -0.17611635,  0.24121797,  0.11540091],\n",
      "       [-0.07155675, -0.17077206,  0.16066664, -0.2969531 ,  0.17866802,\n",
      "         0.25197643, -0.02738667, -0.36703584, -0.3741586 ,  0.09065068,\n",
      "        -0.23451228,  0.34366536,  0.03056198, -0.2103049 ,  0.04467356,\n",
      "         0.06416371, -0.0674338 , -0.08626419, -0.03715265,  0.05515945,\n",
      "        -0.16931243, -0.20090191,  0.30888873,  0.20732439, -0.07356086],\n",
      "       [-0.21536624, -0.35048175, -0.26106876,  0.03394756,  0.35472345,\n",
      "         0.26781553,  0.13685846,  0.02629042,  0.30573082,  0.25710183,\n",
      "         0.04327971,  0.0943172 ,  0.1655891 ,  0.0437102 ,  0.11685854,\n",
      "        -0.07272395, -0.3344899 , -0.30900463,  0.13859403,  0.15851384,\n",
      "         0.11773258, -0.33479014, -0.2620253 , -0.30488658, -0.05010474],\n",
      "       [ 0.3334167 ,  0.2200523 , -0.29331157, -0.15915355,  0.09499183,\n",
      "        -0.14354181,  0.10679555,  0.146545  ,  0.3443337 ,  0.00553831,\n",
      "         0.18019289, -0.18617192, -0.2537195 , -0.3082043 , -0.1984213 ,\n",
      "         0.29814535,  0.21386904, -0.38548276, -0.10692325,  0.12276083,\n",
      "         0.00748098,  0.21473908,  0.23588252,  0.2613244 , -0.24737307],\n",
      "       [-0.16024029, -0.2704437 ,  0.26559186, -0.12199658,  0.18642932,\n",
      "        -0.10306031, -0.0587047 , -0.28396636, -0.00690684, -0.06384027,\n",
      "        -0.22740258,  0.17335355,  0.28543252,  0.13408965,  0.09803063,\n",
      "         0.02385092, -0.33768857, -0.2641586 ,  0.01866794, -0.15850587,\n",
      "        -0.06785288,  0.15321773, -0.28094995, -0.01025921,  0.25330496],\n",
      "       [-0.14783305, -0.17923714, -0.13284558,  0.3496307 , -0.25854206,\n",
      "         0.2452423 , -0.34516513,  0.24204403, -0.32651928, -0.20080091,\n",
      "         0.01155898,  0.27184653,  0.13956857, -0.00780097, -0.3284749 ,\n",
      "         0.36295235, -0.1796183 ,  0.37684685,  0.18379396, -0.26656193,\n",
      "         0.11922604,  0.17644846, -0.21317078, -0.38804102, -0.081974  ],\n",
      "       [ 0.31533217, -0.10858795, -0.03127083, -0.40035138, -0.13446274,\n",
      "        -0.3312927 , -0.26076794, -0.25211728,  0.1317594 , -0.04213527,\n",
      "        -0.3510074 ,  0.38080746, -0.01623294, -0.39753485,  0.2130087 ,\n",
      "        -0.2959024 , -0.09976381,  0.11927634, -0.22497383, -0.05698776,\n",
      "         0.12026733,  0.27204025, -0.19068466, -0.15504031,  0.23873699],\n",
      "       [ 0.04772419,  0.30643213,  0.34290218, -0.01670039,  0.22646815,\n",
      "         0.0066213 ,  0.08617201, -0.02426335,  0.26682556, -0.05727619,\n",
      "         0.2812392 , -0.11569872,  0.07444942, -0.18359454,  0.23288983,\n",
      "         0.30553895, -0.15542425, -0.3736844 ,  0.25895894, -0.14580014,\n",
      "        -0.37631306,  0.1458137 , -0.09608778, -0.34431678, -0.2810644 ],\n",
      "       [-0.30433396,  0.1876347 ,  0.05942661, -0.13830006,  0.24322218,\n",
      "         0.3726068 , -0.30146903,  0.09688449, -0.15777956,  0.04488087,\n",
      "         0.12799132, -0.12219185, -0.30096728, -0.05718181, -0.26216602,\n",
      "         0.19317257,  0.3440106 ,  0.37318236, -0.364825  , -0.22692955,\n",
      "        -0.04081973, -0.16118829,  0.11672181, -0.09000501, -0.28701591],\n",
      "       [-0.3001294 ,  0.32648426, -0.21108852, -0.01146373, -0.230939  ,\n",
      "         0.0600695 ,  0.2631727 ,  0.12547278,  0.2086091 , -0.08696803,\n",
      "         0.1723404 ,  0.2861911 , -0.01524824, -0.09159878,  0.37623143,\n",
      "        -0.17719752,  0.12819487, -0.36174887,  0.3394435 , -0.34818637,\n",
      "        -0.01484346, -0.18818937,  0.23161864, -0.35496905, -0.13087037]],\n",
      "      dtype=float32)>\n",
      "b2 = <tf.Variable 'b2:0' shape=(12, 1) dtype=float32, numpy=\n",
      "array([[0.],\n",
      "       [0.],\n",
      "       [0.],\n",
      "       [0.],\n",
      "       [0.],\n",
      "       [0.],\n",
      "       [0.],\n",
      "       [0.],\n",
      "       [0.],\n",
      "       [0.],\n",
      "       [0.],\n",
      "       [0.]], dtype=float32)>\n"
     ]
    }
   ],
   "source": [
    "parameters = initialize_parameters()\n",
    "print(\"W1 = \" + str(parameters[\"W1\"]))\n",
    "print(\"b1 = \" + str(parameters[\"b1\"]))\n",
    "print(\"W2 = \" + str(parameters[\"W2\"]))\n",
    "print(\"b2 = \" + str(parameters[\"b2\"]))"
   ]
  },
  {
   "cell_type": "code",
   "execution_count": 21,
   "metadata": {},
   "outputs": [
    {
     "data": {
      "text/plain": [
       "{'W1': <tf.Variable 'W1:0' shape=(25, 12288) dtype=float32, numpy=\n",
       " array([[ 1.6709983e-02, -1.7668437e-03,  4.4277869e-03, ...,\n",
       "         -2.0409860e-02,  1.2577824e-02,  2.0119250e-03],\n",
       "        [-1.7880250e-02, -1.3661813e-03,  1.7239500e-02, ...,\n",
       "          1.9963894e-02, -2.1666976e-02,  1.2779485e-02],\n",
       "        [-1.6950723e-03,  8.4809698e-03, -3.0105226e-03, ...,\n",
       "          1.6032327e-03, -1.3424931e-02,  1.2222666e-02],\n",
       "        ...,\n",
       "        [-3.8248785e-03, -1.9217579e-02, -1.5035600e-02, ...,\n",
       "          1.9060567e-02,  2.0003520e-02,  1.5377998e-05],\n",
       "        [ 3.9651226e-03, -1.9923870e-02, -1.6923893e-02, ...,\n",
       "          3.9070603e-03,  5.1008463e-03, -1.5151719e-02],\n",
       "        [ 6.1693974e-04,  1.4706045e-02,  7.0033912e-03, ...,\n",
       "         -1.4057034e-02, -8.5559571e-03,  4.0868819e-03]], dtype=float32)>,\n",
       " 'b1': <tf.Variable 'b1:0' shape=(25, 1) dtype=float32, numpy=\n",
       " array([[0.],\n",
       "        [0.],\n",
       "        [0.],\n",
       "        [0.],\n",
       "        [0.],\n",
       "        [0.],\n",
       "        [0.],\n",
       "        [0.],\n",
       "        [0.],\n",
       "        [0.],\n",
       "        [0.],\n",
       "        [0.],\n",
       "        [0.],\n",
       "        [0.],\n",
       "        [0.],\n",
       "        [0.],\n",
       "        [0.],\n",
       "        [0.],\n",
       "        [0.],\n",
       "        [0.],\n",
       "        [0.],\n",
       "        [0.],\n",
       "        [0.],\n",
       "        [0.],\n",
       "        [0.]], dtype=float32)>,\n",
       " 'W2': <tf.Variable 'W2:0' shape=(12, 25) dtype=float32, numpy=\n",
       " array([[ 0.30482954, -0.03223139,  0.08077329, -0.08650047, -0.19877501,\n",
       "         -0.04486069, -0.12651557,  0.22266728, -0.36635032,  0.25561798,\n",
       "         -0.4023356 , -0.01642802, -0.00252679, -0.22082362,  0.33855814,\n",
       "         -0.09105277, -0.31232274, -0.1388166 , -0.37252587, -0.10941193,\n",
       "         -0.06592023, -0.12614122,  0.10674238, -0.03959331, -0.01977703],\n",
       "        [ 0.1391629 ,  0.009242  , -0.11180678,  0.00931388,  0.09171793,\n",
       "         -0.00644377,  0.17453086,  0.2335468 , -0.32267305,  0.11329818,\n",
       "          0.27279586, -0.2866029 , -0.38289183,  0.20805585, -0.10315123,\n",
       "          0.34365487,  0.20335072,  0.2201218 , -0.06808773, -0.1775992 ,\n",
       "          0.38620168,  0.34256786,  0.20511395,  0.07350624,  0.37636608],\n",
       "        [ 0.14789343,  0.35183388, -0.170235  ,  0.21421784,  0.12320745,\n",
       "         -0.34180212, -0.08534107, -0.02601543,  0.3566233 , -0.27985907,\n",
       "          0.05547601, -0.15629236,  0.39853853,  0.14308268,  0.12539858,\n",
       "         -0.17201328,  0.02578223,  0.3423283 ,  0.07654676,  0.2503171 ,\n",
       "          0.30242229,  0.22715485, -0.17611635,  0.24121797,  0.11540091],\n",
       "        [-0.07155675, -0.17077206,  0.16066664, -0.2969531 ,  0.17866802,\n",
       "          0.25197643, -0.02738667, -0.36703584, -0.3741586 ,  0.09065068,\n",
       "         -0.23451228,  0.34366536,  0.03056198, -0.2103049 ,  0.04467356,\n",
       "          0.06416371, -0.0674338 , -0.08626419, -0.03715265,  0.05515945,\n",
       "         -0.16931243, -0.20090191,  0.30888873,  0.20732439, -0.07356086],\n",
       "        [-0.21536624, -0.35048175, -0.26106876,  0.03394756,  0.35472345,\n",
       "          0.26781553,  0.13685846,  0.02629042,  0.30573082,  0.25710183,\n",
       "          0.04327971,  0.0943172 ,  0.1655891 ,  0.0437102 ,  0.11685854,\n",
       "         -0.07272395, -0.3344899 , -0.30900463,  0.13859403,  0.15851384,\n",
       "          0.11773258, -0.33479014, -0.2620253 , -0.30488658, -0.05010474],\n",
       "        [ 0.3334167 ,  0.2200523 , -0.29331157, -0.15915355,  0.09499183,\n",
       "         -0.14354181,  0.10679555,  0.146545  ,  0.3443337 ,  0.00553831,\n",
       "          0.18019289, -0.18617192, -0.2537195 , -0.3082043 , -0.1984213 ,\n",
       "          0.29814535,  0.21386904, -0.38548276, -0.10692325,  0.12276083,\n",
       "          0.00748098,  0.21473908,  0.23588252,  0.2613244 , -0.24737307],\n",
       "        [-0.16024029, -0.2704437 ,  0.26559186, -0.12199658,  0.18642932,\n",
       "         -0.10306031, -0.0587047 , -0.28396636, -0.00690684, -0.06384027,\n",
       "         -0.22740258,  0.17335355,  0.28543252,  0.13408965,  0.09803063,\n",
       "          0.02385092, -0.33768857, -0.2641586 ,  0.01866794, -0.15850587,\n",
       "         -0.06785288,  0.15321773, -0.28094995, -0.01025921,  0.25330496],\n",
       "        [-0.14783305, -0.17923714, -0.13284558,  0.3496307 , -0.25854206,\n",
       "          0.2452423 , -0.34516513,  0.24204403, -0.32651928, -0.20080091,\n",
       "          0.01155898,  0.27184653,  0.13956857, -0.00780097, -0.3284749 ,\n",
       "          0.36295235, -0.1796183 ,  0.37684685,  0.18379396, -0.26656193,\n",
       "          0.11922604,  0.17644846, -0.21317078, -0.38804102, -0.081974  ],\n",
       "        [ 0.31533217, -0.10858795, -0.03127083, -0.40035138, -0.13446274,\n",
       "         -0.3312927 , -0.26076794, -0.25211728,  0.1317594 , -0.04213527,\n",
       "         -0.3510074 ,  0.38080746, -0.01623294, -0.39753485,  0.2130087 ,\n",
       "         -0.2959024 , -0.09976381,  0.11927634, -0.22497383, -0.05698776,\n",
       "          0.12026733,  0.27204025, -0.19068466, -0.15504031,  0.23873699],\n",
       "        [ 0.04772419,  0.30643213,  0.34290218, -0.01670039,  0.22646815,\n",
       "          0.0066213 ,  0.08617201, -0.02426335,  0.26682556, -0.05727619,\n",
       "          0.2812392 , -0.11569872,  0.07444942, -0.18359454,  0.23288983,\n",
       "          0.30553895, -0.15542425, -0.3736844 ,  0.25895894, -0.14580014,\n",
       "         -0.37631306,  0.1458137 , -0.09608778, -0.34431678, -0.2810644 ],\n",
       "        [-0.30433396,  0.1876347 ,  0.05942661, -0.13830006,  0.24322218,\n",
       "          0.3726068 , -0.30146903,  0.09688449, -0.15777956,  0.04488087,\n",
       "          0.12799132, -0.12219185, -0.30096728, -0.05718181, -0.26216602,\n",
       "          0.19317257,  0.3440106 ,  0.37318236, -0.364825  , -0.22692955,\n",
       "         -0.04081973, -0.16118829,  0.11672181, -0.09000501, -0.28701591],\n",
       "        [-0.3001294 ,  0.32648426, -0.21108852, -0.01146373, -0.230939  ,\n",
       "          0.0600695 ,  0.2631727 ,  0.12547278,  0.2086091 , -0.08696803,\n",
       "          0.1723404 ,  0.2861911 , -0.01524824, -0.09159878,  0.37623143,\n",
       "         -0.17719752,  0.12819487, -0.36174887,  0.3394435 , -0.34818637,\n",
       "         -0.01484346, -0.18818937,  0.23161864, -0.35496905, -0.13087037]],\n",
       "       dtype=float32)>,\n",
       " 'b2': <tf.Variable 'b2:0' shape=(12, 1) dtype=float32, numpy=\n",
       " array([[0.],\n",
       "        [0.],\n",
       "        [0.],\n",
       "        [0.],\n",
       "        [0.],\n",
       "        [0.],\n",
       "        [0.],\n",
       "        [0.],\n",
       "        [0.],\n",
       "        [0.],\n",
       "        [0.],\n",
       "        [0.]], dtype=float32)>,\n",
       " 'W3': <tf.Variable 'W3:0' shape=(6, 12) dtype=float32, numpy=\n",
       " array([[ 0.43704045, -0.04621083,  0.11580634, -0.12401751, -0.28498787,\n",
       "         -0.0643177 , -0.18138799,  0.31924272, -0.5252441 ,  0.36648488,\n",
       "         -0.57683694, -0.02355319],\n",
       "        [-0.00362271, -0.31659943,  0.48539782, -0.13054425, -0.44778362,\n",
       "         -0.19902426, -0.5340981 , -0.15686616, -0.09451121, -0.18085128,\n",
       "          0.15303874, -0.05676579],\n",
       "        [-0.02835476,  0.19952077,  0.01325041, -0.16029972,  0.01335353,\n",
       "          0.13149786, -0.0092386 ,  0.25022852,  0.33484095, -0.4626231 ,\n",
       "          0.16243798,  0.3911131 ],\n",
       "        [-0.41090855, -0.54896003,  0.29829407, -0.14789006,  0.49270523,\n",
       "          0.2915482 ,  0.31559318, -0.09761882, -0.2546277 ,  0.55370533,\n",
       "          0.49114668,  0.29407614],\n",
       "        [ 0.10538739,  0.5396038 ,  0.21203792,  0.5044316 , -0.24406946,\n",
       "          0.3071286 ,  0.1766451 , -0.49004883, -0.12235525, -0.03729886,\n",
       "          0.5112983 , -0.4012398 ],\n",
       "        [ 0.07953709, -0.22407964,  0.571393  ,  0.20514065,  0.17978656,\n",
       "         -0.24661902,  0.03696454,  0.49080324,  0.10974669,  0.35888487,\n",
       "          0.43358922,  0.32567668]], dtype=float32)>,\n",
       " 'b3': <tf.Variable 'b3:0' shape=(6, 1) dtype=float32, numpy=\n",
       " array([[0.],\n",
       "        [0.],\n",
       "        [0.],\n",
       "        [0.],\n",
       "        [0.],\n",
       "        [0.]], dtype=float32)>}"
      ]
     },
     "execution_count": 21,
     "metadata": {},
     "output_type": "execute_result"
    }
   ],
   "source": [
    "parameters"
   ]
  },
  {
   "cell_type": "markdown",
   "metadata": {
    "colab_type": "text",
    "id": "kzAVM5y8T12z"
   },
   "source": [
    "**Expected Output**: \n",
    "\n",
    "<table> \n",
    "    <tr> \n",
    "        <td>\n",
    "            **W1**\n",
    "        </td>\n",
    "        <td>\n",
    "         < tf.Variable 'W1:0' shape=(25, 12288) dtype=float32_ref >\n",
    "        </td>\n",
    "    </tr>\n",
    "    <tr> \n",
    "        <td>\n",
    "            **b1**\n",
    "        </td>\n",
    "        <td>\n",
    "        < tf.Variable 'b1:0' shape=(25, 1) dtype=float32_ref >\n",
    "        </td>\n",
    "    </tr>\n",
    "    <tr> \n",
    "        <td>\n",
    "            **W2**\n",
    "        </td>\n",
    "        <td>\n",
    "        < tf.Variable 'W2:0' shape=(12, 25) dtype=float32_ref >\n",
    "        </td>\n",
    "    </tr>\n",
    "    <tr> \n",
    "        <td>\n",
    "            **b2**\n",
    "        </td>\n",
    "        <td>\n",
    "        < tf.Variable 'b2:0' shape=(12, 1) dtype=float32_ref >\n",
    "        </td>\n",
    "    </tr>\n",
    "\n",
    "</table>"
   ]
  },
  {
   "cell_type": "markdown",
   "metadata": {
    "colab_type": "text",
    "id": "IR5UvbGxT12z"
   },
   "source": [
    "As expected, the parameters haven't been evaluated yet."
   ]
  },
  {
   "cell_type": "markdown",
   "metadata": {
    "colab_type": "text",
    "id": "cnuAGFn2T120"
   },
   "source": [
    "### 2.2 - Forward propagation in tensorflow \n",
    "\n",
    "You will now implement the forward propagation module in tensorflow. The function will take in a dictionary of parameters and it will complete the forward pass. The functions you will be using are: \n",
    "\n",
    "- `tf.add(...,...)` to do an addition\n",
    "- `tf.matmul(...,...)` to do a matrix multiplication\n",
    "- `tf.nn.relu(...)` to apply the ReLU activation\n",
    "\n",
    "**Question:** Implement the forward pass of the neural network. We commented for you the numpy equivalents so that you can compare the tensorflow implementation to numpy. It is important to note that the forward propagation stops at `z3`. The reason is that in tensorflow the last linear layer output is given as input to the function computing the loss. Therefore, you don't need `a3`!\n",
    "\n"
   ]
  },
  {
   "cell_type": "code",
   "execution_count": 22,
   "metadata": {
    "colab": {},
    "colab_type": "code",
    "id": "nC7CYNk0T120"
   },
   "outputs": [],
   "source": [
    "# GRADED FUNCTION: forward_propagation\n",
    "\n",
    "def forward_propagation(X, parameters):\n",
    "    \"\"\"\n",
    "    Implements the forward propagation for the model: LINEAR -> RELU -> LINEAR -> RELU -> LINEAR -> SOFTMAX\n",
    "    \n",
    "    Arguments:\n",
    "    X -- input dataset placeholder, of shape (input size, number of examples)\n",
    "    parameters -- python dictionary containing your parameters \"W1\", \"b1\", \"W2\", \"b2\", \"W3\", \"b3\"\n",
    "                  the shapes are given in initialize_parameters\n",
    "\n",
    "    Returns:\n",
    "    Z3 -- the output of the last LINEAR unit\n",
    "    \"\"\"\n",
    "    \n",
    "    # Retrieve the parameters from the dictionary \"parameters\" \n",
    "    W1 = parameters['W1']\n",
    "    b1 = parameters['b1']\n",
    "    W2 = parameters['W2']\n",
    "    b2 = parameters['b2']\n",
    "    W3 = parameters['W3']\n",
    "    b3 = parameters['b3']\n",
    "    \n",
    "    ### START CODE HERE ### (approx. 5 lines)              # Numpy Equivalents:\n",
    "    Z1 = tf.add(tf.matmul(W1, X), b1)                      # Z1 = np.dot(W1, X) + b1\n",
    "    A1 = tf.nn.relu(Z1)                                    # A1 = relu(Z1)\n",
    "    Z2 = tf.add(tf.matmul(W2, A1), b2)                     # Z2 = np.dot(W2, a1) + b2\n",
    "    A2 = tf.nn.relu(Z2)                                    # A2 = relu(Z2)\n",
    "    Z3 = tf.add(tf.matmul(W3, A2), b3)                                               # Z3 = np.dot(W3, A2) + b3\n",
    "    ### END CODE HERE ###\n",
    "    \n",
    "    return Z3"
   ]
  },
  {
   "cell_type": "code",
   "execution_count": 23,
   "metadata": {
    "colab": {},
    "colab_type": "code",
    "id": "hioQQqyxT122",
    "scrolled": true
   },
   "outputs": [
    {
     "name": "stdout",
     "output_type": "stream",
     "text": [
      "(12288, 1)\n",
      "Z3 = tf.Tensor(\n",
      "[[ 0.19932984]\n",
      " [ 0.21249549]\n",
      " [-0.02948543]\n",
      " [ 0.16913061]\n",
      " [ 0.48353866]\n",
      " [ 0.5369523 ]], shape=(6, 1), dtype=float32)\n"
     ]
    }
   ],
   "source": [
    "# We will pass a random input to check our forward prop machinery\n",
    "X=np.asarray(X_train[:,0],dtype=np.float32)\n",
    "X=X.reshape(12288,1)\n",
    "print(X.shape)\n",
    "parameters = initialize_parameters()\n",
    "Z3 = forward_propagation(X, parameters)\n",
    "print(\"Z3 = \" + str(Z3))"
   ]
  },
  {
   "cell_type": "markdown",
   "metadata": {
    "colab_type": "text",
    "id": "PRrS7RzpT124"
   },
   "source": [
    "**Expected Output**: \n",
    "\n",
    "<table> \n",
    "    <tr> \n",
    "        <td>\n",
    "            **Z3**\n",
    "        </td>\n",
    "        <td>\n",
    "        Tensor(\"Add_2:0\", shape=(6, ?), dtype=float32)\n",
    "        </td>\n",
    "    </tr>\n",
    "\n",
    "</table>"
   ]
  },
  {
   "cell_type": "markdown",
   "metadata": {
    "colab_type": "text",
    "id": "FDjgAHp6T125"
   },
   "source": [
    "You may have noticed that the forward propagation doesn't output any cache. You will understand why below, when we get to brackpropagation."
   ]
  },
  {
   "cell_type": "markdown",
   "metadata": {
    "colab_type": "text",
    "id": "RXqHnAEnT125"
   },
   "source": [
    "### 2.3 Compute cost\n",
    "\n",
    "As seen before, it is very easy to compute the cost using:\n",
    "```python\n",
    "tf.reduce_mean(tf.nn.softmax_cross_entropy_with_logits(logits = ..., labels = ...))\n",
    "```\n",
    "**Question**: Implement the cost function below. \n",
    "- It is important to know that the \"`logits`\" and \"`labels`\" inputs of `tf.nn.softmax_cross_entropy_with_logits` are expected to be of shape (number of examples, num_classes). We have thus transposed Z3 and Y for you.\n",
    "- Besides, `tf.reduce_mean` basically does the summation over the examples."
   ]
  },
  {
   "cell_type": "code",
   "execution_count": 24,
   "metadata": {
    "colab": {},
    "colab_type": "code",
    "id": "1_bzQXSJT125"
   },
   "outputs": [],
   "source": [
    "# GRADED FUNCTION: compute_cost \n",
    "\n",
    "def compute_cost(Z3, Y):\n",
    "    \"\"\"\n",
    "    Computes the cost\n",
    "    \n",
    "    Arguments:\n",
    "    Z3 -- output of forward propagation (output of the last LINEAR unit), of shape (6, number of examples)\n",
    "    Y -- \"true\" labels vector placeholder, same shape as Z3\n",
    "    \n",
    "    Returns:\n",
    "    cost - Tensor of the cost function\n",
    "    \"\"\"\n",
    "    \n",
    "    # to fit the tensorflow requirement for tf.nn.softmax_cross_entropy_with_logits(...,...)\n",
    "    logits = tf.transpose(Z3)\n",
    "    labels = tf.transpose(Y)\n",
    "    \n",
    "    ### START CODE HERE ### (1 line of code)\n",
    "    cost = tf.reduce_mean(tf.nn.softmax_cross_entropy_with_logits(logits = logits, labels = labels))\n",
    "    ### END CODE HERE ###\n",
    "    \n",
    "    return cost"
   ]
  },
  {
   "cell_type": "code",
   "execution_count": 25,
   "metadata": {
    "colab": {},
    "colab_type": "code",
    "id": "4HahBCJVT127"
   },
   "outputs": [
    {
     "name": "stdout",
     "output_type": "stream",
     "text": [
      "cost = tf.Tensor(1.5356097, shape=(), dtype=float32)\n"
     ]
    }
   ],
   "source": [
    "X=np.asarray(X_train[:,0],dtype=np.float32)\n",
    "X=X.reshape(12288,1)\n",
    "Y=np.asarray(Y_train[:,0],dtype=np.float32)\n",
    "parameters = initialize_parameters()\n",
    "Z3 = forward_propagation(X, parameters)\n",
    "cost = compute_cost(Z3, Y)\n",
    "print(\"cost = \" + str(cost))"
   ]
  },
  {
   "cell_type": "markdown",
   "metadata": {
    "colab_type": "text",
    "id": "GT7MzPxET12-"
   },
   "source": [
    "**Expected Output**: \n",
    "\n",
    "<table> \n",
    "    <tr> \n",
    "        <td>\n",
    "            **cost**\n",
    "        </td>\n",
    "        <td>\n",
    "        Tensor(\"Mean:0\", shape=(), dtype=float32)\n",
    "        </td>\n",
    "    </tr>\n",
    "\n",
    "</table>"
   ]
  },
  {
   "cell_type": "markdown",
   "metadata": {
    "colab_type": "text",
    "id": "9O9sNnHQT12-"
   },
   "source": [
    "### 2.4 - Backward propagation & parameter updates\n",
    "\n",
    "This is where you become grateful to programming frameworks. All the backpropagation and the parameters update is taken care of in 1 line of code. It is very easy to incorporate this line in the model.\n",
    "\n"
   ]
  },
  {
   "cell_type": "code",
   "execution_count": 26,
   "metadata": {},
   "outputs": [],
   "source": [
    "def get_grad(inputs,targets,parameters):\n",
    "    with tf.GradientTape() as tape:\n",
    "    # calculate the loss\n",
    "        Z3=forward_propagation(inputs, parameters)\n",
    "        loss_value = compute_cost(Z3, targets)\n",
    "  \n",
    "  # return gradient\n",
    "    return [tape.gradient(loss_value, list(parameters.values())),loss_value]"
   ]
  },
  {
   "cell_type": "markdown",
   "metadata": {
    "colab_type": "text",
    "id": "SKxhuoN2T12_"
   },
   "source": [
    "### 2.5 - Building the model\n",
    "\n",
    "Now, you will bring it all together! \n",
    "\n",
    "**Exercise:** Implement the model. You will be calling the functions you had previously implemented."
   ]
  },
  {
   "cell_type": "code",
   "execution_count": 27,
   "metadata": {
    "colab": {},
    "colab_type": "code",
    "id": "siFLpYfkT12_"
   },
   "outputs": [],
   "source": [
    "def model(X_train, Y_train, X_test, Y_test, learning_rate = 0.0001,\n",
    "          num_epochs = 1500, minibatch_size = 32, print_cost = True):\n",
    "    \"\"\"\n",
    "    Implements a three-layer tensorflow neural network: LINEAR->RELU->LINEAR->RELU->LINEAR->SOFTMAX.\n",
    "    \n",
    "    Arguments:\n",
    "    X_train -- training set, of shape (input size = 12288, number of training examples = 1080)\n",
    "    Y_train -- test set, of shape (output size = 6, number of training examples = 1080)\n",
    "    X_test -- training set, of shape (input size = 12288, number of training examples = 120)\n",
    "    Y_test -- test set, of shape (output size = 6, number of test examples = 120)\n",
    "    learning_rate -- learning rate of the optimization\n",
    "    num_epochs -- number of epochs of the optimization loop\n",
    "    minibatch_size -- size of a minibatch\n",
    "    print_cost -- True to print the cost every 100 epochs\n",
    "    \n",
    "    Returns:\n",
    "    parameters -- parameters learnt by the model. They can then be used to predict.\n",
    "    \"\"\"\n",
    "    \n",
    "    seed = 3                                          # to keep consistent results\n",
    "    (n_x, m) = X_train.shape                          # (n_x: input size, m : number of examples in the train set)\n",
    "    n_y = Y_train.shape[0]                            # n_y : output size\n",
    "    costs = []                                        # To keep track of the cost\n",
    "    \n",
    "    \n",
    "    # Initialize parameters\n",
    "    ### START CODE HERE ### (1 line)\n",
    "    parameters = initialize_parameters()\n",
    "    ### END CODE HERE ###\n",
    "    \n",
    "    \n",
    "    \n",
    "    # Backpropagation: Define the tensorflow optimizer. Use an AdamOptimizer.\n",
    "    ### START CODE HERE ### (1 line)\n",
    "    optimizer = tf.keras.optimizers.Adam(learning_rate = learning_rate)\n",
    "    ### END CODE HERE ###\n",
    "\n",
    "    # Start the session to compute the tensorflow graph\n",
    "    for epoch in range(num_epochs):\n",
    "\n",
    "            epoch_cost = 0.                       # Defines a cost related to an epoch\n",
    "            num_minibatches = int(m / minibatch_size) # number of minibatches of size minibatch_size in the train set\n",
    "            seed = seed + 1\n",
    "            minibatches = random_mini_batches(X_train, Y_train, minibatch_size, seed)\n",
    "\n",
    "            for minibatch in minibatches:\n",
    "\n",
    "                # Select a minibatch\n",
    "                (minibatch_X, minibatch_Y) = minibatch\n",
    "                X=minibatch_X.astype(np.float32)\n",
    "                Y=minibatch_Y.astype(np.float32)\n",
    "                grads,minibatch_cost = get_grad(X, Y,parameters)\n",
    "                optimizer.apply_gradients(zip(grads, list(parameters.values())))\n",
    "                # IMPORTANT: The line that runs the graph on a minibatch.\n",
    "                # Run the session to execute the \"optimizer\" and the \"cost\", the feedict should contain a minibatch for (X,Y).\n",
    "                ### START CODE HERE ### (1 line)\n",
    "#                 _ , minibatch_cost = optimizer.minimize(costs,parameters)\n",
    "                ### END CODE HERE ###\n",
    "                \n",
    "                epoch_cost += minibatch_cost / num_minibatches\n",
    "              # Print the cost every epoch\n",
    "            if print_cost == True and epoch % 100 == 0:\n",
    "                print (\"Cost after epoch %i: %f\" % (epoch, epoch_cost))\n",
    "            if print_cost == True and epoch % 5 == 0:\n",
    "                costs.append(epoch_cost)\n",
    "                \n",
    "                \n",
    "        # plot the cost\n",
    "    plt.plot(np.squeeze(costs))\n",
    "    plt.ylabel('cost')\n",
    "    plt.xlabel('iterations (per fives)')\n",
    "    plt.title(\"Learning rate =\" + str(learning_rate))\n",
    "    plt.show()\n",
    "    print (\"Parameters have been trained!\")\n",
    "#     correct_prediction = tf.equal(tf.argmax(Z3), tf.argmax(Y))\n",
    "#     accuracy = tf.reduce_mean(tf.cast(correct_prediction, \"float\"))\n",
    "#     print (\"Train Accuracy:\", accuracy.eval({X: X_train, Y: Y_train}))\n",
    "#     print (\"Test Accuracy:\", accuracy.eval({X: X_test, Y: Y_test}))\n",
    "        \n",
    "    return parameters"
   ]
  },
  {
   "cell_type": "markdown",
   "metadata": {
    "colab_type": "text",
    "id": "sQ1doxmHT13B"
   },
   "source": [
    "Run the following cell to train your model! On our machine it takes about 5 minutes. Your \"Cost after epoch 100\" should be 1.016458. If it's not, don't waste time; interrupt the training by clicking on the square (⬛) in the upper bar of the notebook, and try to correct your code. If it is the correct cost, take a break and come back in 5 minutes!"
   ]
  },
  {
   "cell_type": "code",
   "execution_count": 28,
   "metadata": {
    "colab": {},
    "colab_type": "code",
    "id": "AISfljZVT13B",
    "scrolled": false
   },
   "outputs": [
    {
     "name": "stdout",
     "output_type": "stream",
     "text": [
      "Cost after epoch 0: 1.866343\n",
      "Cost after epoch 100: 0.743134\n",
      "Cost after epoch 200: 0.511275\n",
      "Cost after epoch 300: 0.354776\n",
      "Cost after epoch 400: 0.229745\n",
      "Cost after epoch 500: 0.142229\n",
      "Cost after epoch 600: 0.091416\n",
      "Cost after epoch 700: 0.065721\n",
      "Cost after epoch 800: 0.032537\n",
      "Cost after epoch 900: 0.018565\n",
      "Cost after epoch 1000: 0.011526\n",
      "Cost after epoch 1100: 0.006900\n",
      "Cost after epoch 1200: 0.006045\n",
      "Cost after epoch 1300: 0.002928\n",
      "Cost after epoch 1400: 0.003581\n"
     ]
    },
    {
     "data": {
      "image/png": "[encoded data removed]",
      "text/plain": [
       "<Figure size 432x288 with 1 Axes>"
      ]
     },
     "metadata": {
      "needs_background": "light"
     },
     "output_type": "display_data"
    },
    {
     "name": "stdout",
     "output_type": "stream",
     "text": [
      "Parameters have been trained!\n"
     ]
    }
   ],
   "source": [
    "parameters = model(X_train, Y_train, X_test, Y_test)"
   ]
  },
  {
   "cell_type": "code",
   "execution_count": 31,
   "metadata": {},
   "outputs": [
    {
     "data": {
      "text/plain": [
       "0.85"
      ]
     },
     "execution_count": 31,
     "metadata": {},
     "output_type": "execute_result"
    }
   ],
   "source": [
    "X_test=X_test.astype(np.float32)\n",
    "Z3=forward_propagation(X_test, parameters)\n",
    "correct_prediction = tf.equal(tf.argmax(Z3), tf.argmax(Y_test))\n",
    "accuracy = tf.reduce_mean(tf.cast(correct_prediction, \"float\"))\n",
    "# print (\"Train Accuracy:\", accuracy.eval({X: X_train, Y: Y_train}))\n",
    "# print (\"Test Accuracy:\", accuracy.eval({X: X_test, Y: Y_test}))\n",
    "accuracy.numpy()"
   ]
  },
  {
   "cell_type": "markdown",
   "metadata": {
    "colab_type": "text",
    "id": "ogOoTX2CT13E"
   },
   "source": [
    "**Expected Output**:\n",
    "\n",
    "<table> \n",
    "    <tr> \n",
    "        <td>\n",
    "            **Train Accuracy**\n",
    "        </td>\n",
    "        <td>\n",
    "        0.999074\n",
    "        </td>\n",
    "    </tr>\n",
    "    <tr> \n",
    "        <td>\n",
    "            **Test Accuracy**\n",
    "        </td>\n",
    "        <td>\n",
    "        0.716667\n",
    "        </td>\n",
    "    </tr>\n",
    "\n",
    "</table>\n",
    "\n",
    "Amazing, your algorithm can recognize a sign representing a figure between 0 and 5 with 71.7% accuracy.\n",
    "\n",
    "**Insights**:\n",
    "- Your model seems big enough to fit the training set well. However, given the difference between train and test accuracy, you could try to add L2 or dropout regularization to reduce overfitting. \n",
    "- Think about the session as a block of code to train the model. Each time you run the session on a minibatch, it trains the parameters. In total you have run the session a large number of times (1500 epochs) until you obtained well trained parameters."
   ]
  },
  {
   "cell_type": "markdown",
   "metadata": {
    "colab_type": "text",
    "id": "cka8pF8BT13E"
   },
   "source": [
    "### 2.6 - Test with your own image (optional / ungraded exercise)\n",
    "\n",
    "Congratulations on finishing this assignment. You can now take a picture of your hand and see the output of your model. To do that:\n",
    "    1. Click on \"File\" in the upper bar of this notebook, then click \"Open\" to go on your Coursera Hub.\n",
    "    2. Add your image to this Jupyter Notebook's directory, in the \"images\" folder\n",
    "    3. Write your image's name in the following code\n",
    "    4. Run the code and check if the algorithm is right!"
   ]
  },
  {
   "cell_type": "code",
   "execution_count": 32,
   "metadata": {},
   "outputs": [],
   "source": [
    "def predict(X, parameters):\n",
    "    z3 = forward_propagation(X, parameters)\n",
    "    p = tf.argmax(z3)\n",
    "        \n",
    "    return p.numpy()"
   ]
  },
  {
   "cell_type": "code",
   "execution_count": 34,
   "metadata": {
    "colab": {},
    "colab_type": "code",
    "id": "EJ8Aft1CT13F",
    "scrolled": true
   },
   "outputs": [
    {
     "name": "stdout",
     "output_type": "stream",
     "text": [
      "[2]\n"
     ]
    },
    {
     "data": {
      "image/png": "[encoded data removed]",
      "text/plain": [
       "<Figure size 432x288 with 1 Axes>"
      ]
     },
     "metadata": {
      "needs_background": "light"
     },
     "output_type": "display_data"
    }
   ],
   "source": [
    "import cv2\n",
    "import matplotlib.pyplot as plt \n",
    "\n",
    "## START CODE HERE ## (PUT YOUR IMAGE NAME) \n",
    "my_image = \"thumbs_up.jpg\"\n",
    "## END CODE HERE ##\n",
    "\n",
    "# We preprocess your image to fit your algorithm.\n",
    "fname = \"images/\" + my_image\n",
    "image=cv2.imread(fname)\n",
    "image = image/255.\n",
    "my_image = cv2.resize(image,(64,64))\n",
    "plt.imshow(my_image)\n",
    "my_img2=my_image.reshape(1, -1).T\n",
    "my_img2=my_img2.astype(np.float32)\n",
    "my_image_prediction = predict(my_img2, parameters)\n",
    "print(my_image_prediction)\n",
    "# print(forward_propagation(my_img2, parameters))\n",
    "# plt.imshow(image)\n",
    "# print(\"Your algorithm predicts: y = \" + str(np.squeeze(my_image_prediction)))"
   ]
  },
  {
   "cell_type": "markdown",
   "metadata": {
    "colab_type": "text",
    "id": "6Q5jJuAqT13G"
   },
   "source": [
    "You indeed deserved a \"thumbs-up\" although as you can see the algorithm seems to classify it incorrectly. The reason is that the training set doesn't contain any \"thumbs-up\", so the model doesn't know how to deal with it! We call that a \"mismatched data distribution\" and it is one of the various of the next course on \"Structuring Machine Learning Projects\"."
   ]
  },
  {
   "cell_type": "markdown",
   "metadata": {
    "colab_type": "text",
    "id": "DMY1FYvOT13H"
   },
   "source": [
    "<font color='blue'>\n",
    "**What you should remember**:\n",
    "- Tensorflow is a programming framework used in deep learning\n",
    "- The two main object classes in tensorflow are Tensors and Operators. \n",
    "- When you code in tensorflow you have to take the following steps:\n",
    "    - Create a graph containing Tensors (Variables, Placeholders ...) and Operations (tf.matmul, tf.add, ...)\n",
    "    - Create a session\n",
    "    - Initialize the session\n",
    "    - Run the session to execute the graph\n",
    "- You can execute the graph multiple times as you've seen in model()\n",
    "- The backpropagation and optimization is automatically done when running the session on the \"optimizer\" object."
   ]
  }
 ],
 "metadata": {
  "coursera": {
   "course_slug": "deep-neural-network",
   "graded_item_id": "BFd89",
   "launcher_item_id": "AH2rK"
  },
  "kernelspec": {
   "display_name": "Python 3",
   "language": "python",
   "name": "python3"
  },
  "language_info": {
   "codemirror_mode": {
    "name": "ipython",
    "version": 3
   },
   "file_extension": ".py",
   "mimetype": "text/x-python",
   "name": "python",
   "nbconvert_exporter": "python",
   "pygments_lexer": "ipython3",
   "version": "3.7.5"
  }
 },
 "nbformat": 4,
 "nbformat_minor": 2
}
